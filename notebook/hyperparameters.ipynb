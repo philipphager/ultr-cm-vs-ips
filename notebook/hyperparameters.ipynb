{
 "cells": [
  {
   "cell_type": "code",
   "execution_count": null,
   "id": "76dd08d3-878c-4f54-879c-9b260510b463",
   "metadata": {},
   "outputs": [],
   "source": [
    "%cd .."
   ]
  },
  {
   "cell_type": "code",
   "execution_count": null,
   "id": "5f2a47ef-15ec-4181-86e2-8351e59c1a95",
   "metadata": {},
   "outputs": [],
   "source": [
    "from util import load_experiment"
   ]
  },
  {
   "cell_type": "code",
   "execution_count": null,
   "id": "327e5c9a-cede-4e92-8c9b-ba45100d5ba1",
   "metadata": {},
   "outputs": [],
   "source": [
    "baseline_df, val_df, test_df = load_experiment(\"hyperparameters\")"
   ]
  },
  {
   "cell_type": "code",
   "execution_count": null,
   "id": "030fdedf-be3f-4fd5-abd4-41b2b42f13cf",
   "metadata": {
    "tags": []
   },
   "outputs": [],
   "source": [
    "min_columns = [\"dataset\", \"model\", \"model_optimizer\", \"model_learning_rate\", \"random_state\"]\n",
    "mean_columns = [\"dataset\", \"model\", \"model_optimizer\", \"model_learning_rate\"]\n",
    "\n",
    "min_df = val_df.groupby(min_columns)[\"val_loss\"].min().reset_index()\n",
    "min_df = val_df.groupby(mean_columns).agg(mean_val_loss=(\"val_loss\", \"mean\"),\n",
    "                                          mean_ndcg=(\"nDCG\", \"mean\"),\n",
    "                                          folds=(\"random_state\", \"nunique\"),\n",
    "                                          mean_epochs=(\"epoch\", \"mean\")).reset_index()\n",
    "min_df.sort_values([\"dataset\", \"model\", \"mean_val_loss\"]).groupby([\"dataset\", \"model\"]).head(1)"
   ]
  },
  {
   "cell_type": "code",
   "execution_count": null,
   "id": "3315cee3-3aa0-4ecd-bab9-357fe7d1362b",
   "metadata": {},
   "outputs": [],
   "source": [
    "import altair as alt\n",
    "\n",
    "alt.Chart(min_df).mark_line(point=True, clip=True).encode(\n",
    "    row=\"dataset\",\n",
    "    column=\"model\",\n",
    "    x=alt.X(\"model_learning_rate\", scale=alt.Scale(type=\"log\")),\n",
    "    y=alt.Y(\"mean_ndcg\", scale=alt.Scale(type=\"log\")),\n",
    "    color=\"model_optimizer\",\n",
    "    tooltip=[\"model_learning_rate\"]\n",
    ")"
   ]
  }
 ],
 "metadata": {
  "kernelspec": {
   "display_name": "Python 3 (ipykernel)",
   "language": "python",
   "name": "python3"
  },
  "language_info": {
   "codemirror_mode": {
    "name": "ipython",
    "version": 3
   },
   "file_extension": ".py",
   "mimetype": "text/x-python",
   "name": "python",
   "nbconvert_exporter": "python",
   "pygments_lexer": "ipython3",
   "version": "3.9.13"
  }
 },
 "nbformat": 4,
 "nbformat_minor": 5
}
