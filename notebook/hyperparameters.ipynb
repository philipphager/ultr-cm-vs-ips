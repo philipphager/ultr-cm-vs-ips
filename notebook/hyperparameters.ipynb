{
 "cells": [
  {
   "cell_type": "code",
   "execution_count": 1,
   "id": "76dd08d3-878c-4f54-879c-9b260510b463",
   "metadata": {},
   "outputs": [
    {
     "name": "stdout",
     "output_type": "stream",
     "text": [
      "/Users/philipphager/Developer/ultr-cm-vs-ips\n"
     ]
    }
   ],
   "source": [
    "%cd .."
   ]
  },
  {
   "cell_type": "code",
   "execution_count": 2,
   "id": "5f2a47ef-15ec-4181-86e2-8351e59c1a95",
   "metadata": {},
   "outputs": [
    {
     "name": "stderr",
     "output_type": "stream",
     "text": [
      "/usr/local/Caskroom/miniconda/base/envs/ultr-cm-vs-ips/lib/python3.9/site-packages/tqdm/auto.py:22: TqdmWarning: IProgress not found. Please update jupyter and ipywidgets. See https://ipywidgets.readthedocs.io/en/stable/user_install.html\n",
      "  from .autonotebook import tqdm as notebook_tqdm\n"
     ]
    }
   ],
   "source": [
    "from util import load_experiment"
   ]
  },
  {
   "cell_type": "code",
   "execution_count": 3,
   "id": "327e5c9a-cede-4e92-8c9b-ba45100d5ba1",
   "metadata": {},
   "outputs": [],
   "source": [
    "baseline_df, val_df, test_df = load_experiment(\"hyperparameters\")"
   ]
  },
  {
   "cell_type": "code",
   "execution_count": 15,
   "id": "030fdedf-be3f-4fd5-abd4-41b2b42f13cf",
   "metadata": {},
   "outputs": [
    {
     "data": {
      "text/html": [
       "<div>\n",
       "<style scoped>\n",
       "    .dataframe tbody tr th:only-of-type {\n",
       "        vertical-align: middle;\n",
       "    }\n",
       "\n",
       "    .dataframe tbody tr th {\n",
       "        vertical-align: top;\n",
       "    }\n",
       "\n",
       "    .dataframe thead th {\n",
       "        text-align: right;\n",
       "    }\n",
       "</style>\n",
       "<table border=\"1\" class=\"dataframe\">\n",
       "  <thead>\n",
       "    <tr style=\"text-align: right;\">\n",
       "      <th></th>\n",
       "      <th>dataset</th>\n",
       "      <th>model</th>\n",
       "      <th>model_optimizer</th>\n",
       "      <th>model_learning_rate</th>\n",
       "      <th>mean_val_loss</th>\n",
       "      <th>folds</th>\n",
       "      <th>mean_epochs</th>\n",
       "    </tr>\n",
       "  </thead>\n",
       "  <tbody>\n",
       "    <tr>\n",
       "      <th>26</th>\n",
       "      <td>Yahoo</td>\n",
       "      <td>Neural PBM - Estimated bias</td>\n",
       "      <td>sgd-momentum</td>\n",
       "      <td>0.0500</td>\n",
       "      <td>2.850277</td>\n",
       "      <td>3</td>\n",
       "      <td>15.000000</td>\n",
       "    </tr>\n",
       "    <tr>\n",
       "      <th>10</th>\n",
       "      <td>Yahoo</td>\n",
       "      <td>Neural PBM - Estimated bias</td>\n",
       "      <td>adam</td>\n",
       "      <td>0.0050</td>\n",
       "      <td>2.875144</td>\n",
       "      <td>3</td>\n",
       "      <td>6.333333</td>\n",
       "    </tr>\n",
       "    <tr>\n",
       "      <th>9</th>\n",
       "      <td>Yahoo</td>\n",
       "      <td>Neural PBM - Estimated bias</td>\n",
       "      <td>adam</td>\n",
       "      <td>0.0010</td>\n",
       "      <td>2.891890</td>\n",
       "      <td>3</td>\n",
       "      <td>13.385542</td>\n",
       "    </tr>\n",
       "    <tr>\n",
       "      <th>55</th>\n",
       "      <td>Yahoo</td>\n",
       "      <td>Neural PBM - Unbiased</td>\n",
       "      <td>sgd-momentum</td>\n",
       "      <td>0.1000</td>\n",
       "      <td>2.829617</td>\n",
       "      <td>3</td>\n",
       "      <td>14.925926</td>\n",
       "    </tr>\n",
       "    <tr>\n",
       "      <th>36</th>\n",
       "      <td>Yahoo</td>\n",
       "      <td>Neural PBM - Unbiased</td>\n",
       "      <td>adam</td>\n",
       "      <td>0.0005</td>\n",
       "      <td>2.829953</td>\n",
       "      <td>3</td>\n",
       "      <td>12.067568</td>\n",
       "    </tr>\n",
       "    <tr>\n",
       "      <th>35</th>\n",
       "      <td>Yahoo</td>\n",
       "      <td>Neural PBM - Unbiased</td>\n",
       "      <td>adam</td>\n",
       "      <td>0.0001</td>\n",
       "      <td>2.830208</td>\n",
       "      <td>3</td>\n",
       "      <td>20.025210</td>\n",
       "    </tr>\n",
       "    <tr>\n",
       "      <th>64</th>\n",
       "      <td>Yahoo</td>\n",
       "      <td>Pointwise IPS - Unbiased</td>\n",
       "      <td>adam</td>\n",
       "      <td>0.0005</td>\n",
       "      <td>11.215270</td>\n",
       "      <td>3</td>\n",
       "      <td>17.881818</td>\n",
       "    </tr>\n",
       "    <tr>\n",
       "      <th>65</th>\n",
       "      <td>Yahoo</td>\n",
       "      <td>Pointwise IPS - Unbiased</td>\n",
       "      <td>adam</td>\n",
       "      <td>0.0010</td>\n",
       "      <td>11.217297</td>\n",
       "      <td>3</td>\n",
       "      <td>15.693182</td>\n",
       "    </tr>\n",
       "    <tr>\n",
       "      <th>81</th>\n",
       "      <td>Yahoo</td>\n",
       "      <td>Pointwise IPS - Unbiased</td>\n",
       "      <td>sgd-momentum</td>\n",
       "      <td>0.0100</td>\n",
       "      <td>11.228531</td>\n",
       "      <td>3</td>\n",
       "      <td>19.785124</td>\n",
       "    </tr>\n",
       "  </tbody>\n",
       "</table>\n",
       "</div>"
      ],
      "text/plain": [
       "   dataset                        model model_optimizer  model_learning_rate  \\\n",
       "26   Yahoo  Neural PBM - Estimated bias    sgd-momentum               0.0500   \n",
       "10   Yahoo  Neural PBM - Estimated bias            adam               0.0050   \n",
       "9    Yahoo  Neural PBM - Estimated bias            adam               0.0010   \n",
       "55   Yahoo        Neural PBM - Unbiased    sgd-momentum               0.1000   \n",
       "36   Yahoo        Neural PBM - Unbiased            adam               0.0005   \n",
       "35   Yahoo        Neural PBM - Unbiased            adam               0.0001   \n",
       "64   Yahoo     Pointwise IPS - Unbiased            adam               0.0005   \n",
       "65   Yahoo     Pointwise IPS - Unbiased            adam               0.0010   \n",
       "81   Yahoo     Pointwise IPS - Unbiased    sgd-momentum               0.0100   \n",
       "\n",
       "    mean_val_loss  folds  mean_epochs  \n",
       "26       2.850277      3    15.000000  \n",
       "10       2.875144      3     6.333333  \n",
       "9        2.891890      3    13.385542  \n",
       "55       2.829617      3    14.925926  \n",
       "36       2.829953      3    12.067568  \n",
       "35       2.830208      3    20.025210  \n",
       "64      11.215270      3    17.881818  \n",
       "65      11.217297      3    15.693182  \n",
       "81      11.228531      3    19.785124  "
      ]
     },
     "execution_count": 15,
     "metadata": {},
     "output_type": "execute_result"
    }
   ],
   "source": [
    "min_columns = [\"dataset\", \"model\", \"model_optimizer\", \"model_learning_rate\", \"random_state\"]\n",
    "mean_columns = [\"dataset\", \"model\", \"model_optimizer\", \"model_learning_rate\"]\n",
    "\n",
    "min_df = val_df.groupby(min_columns)[\"val_loss\"].min().reset_index()\n",
    "min_df = val_df.groupby(mean_columns).agg(mean_val_loss=(\"val_loss\", \"mean\"),\n",
    "                                          folds=(\"random_state\", \"nunique\"),\n",
    "                                          mean_epochs=(\"epoch\", \"mean\")).reset_index()\n",
    "min_df.sort_values([\"dataset\", \"model\", \"mean_val_loss\"]).groupby([\"dataset\", \"model\"]).head(3)"
   ]
  }
 ],
 "metadata": {
  "kernelspec": {
   "display_name": "Python 3 (ipykernel)",
   "language": "python",
   "name": "python3"
  },
  "language_info": {
   "codemirror_mode": {
    "name": "ipython",
    "version": 3
   },
   "file_extension": ".py",
   "mimetype": "text/x-python",
   "name": "python",
   "nbconvert_exporter": "python",
   "pygments_lexer": "ipython3",
   "version": "3.9.13"
  }
 },
 "nbformat": 4,
 "nbformat_minor": 5
}
