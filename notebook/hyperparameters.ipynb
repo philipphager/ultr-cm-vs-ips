{
 "cells": [
  {
   "cell_type": "code",
   "execution_count": 1,
   "id": "76dd08d3-878c-4f54-879c-9b260510b463",
   "metadata": {},
   "outputs": [
    {
     "name": "stdout",
     "output_type": "stream",
     "text": [
      "/Users/philipphager/Developer/ultr-cm-vs-ips\n"
     ]
    }
   ],
   "source": [
    "%cd .."
   ]
  },
  {
   "cell_type": "code",
   "execution_count": 2,
   "id": "5f2a47ef-15ec-4181-86e2-8351e59c1a95",
   "metadata": {},
   "outputs": [
    {
     "name": "stderr",
     "output_type": "stream",
     "text": [
      "/usr/local/Caskroom/miniconda/base/envs/ultr-cm-vs-ips/lib/python3.9/site-packages/tqdm/auto.py:22: TqdmWarning: IProgress not found. Please update jupyter and ipywidgets. See https://ipywidgets.readthedocs.io/en/stable/user_install.html\n",
      "  from .autonotebook import tqdm as notebook_tqdm\n"
     ]
    }
   ],
   "source": [
    "from util import load_experiment"
   ]
  },
  {
   "cell_type": "code",
   "execution_count": 3,
   "id": "327e5c9a-cede-4e92-8c9b-ba45100d5ba1",
   "metadata": {},
   "outputs": [],
   "source": [
    "baseline_df, val_df, test_df = load_experiment(\"hyperparameters\")"
   ]
  },
  {
   "cell_type": "code",
   "execution_count": 4,
   "id": "030fdedf-be3f-4fd5-abd4-41b2b42f13cf",
   "metadata": {},
   "outputs": [
    {
     "data": {
      "text/html": [
       "<div>\n",
       "<style scoped>\n",
       "    .dataframe tbody tr th:only-of-type {\n",
       "        vertical-align: middle;\n",
       "    }\n",
       "\n",
       "    .dataframe tbody tr th {\n",
       "        vertical-align: top;\n",
       "    }\n",
       "\n",
       "    .dataframe thead th {\n",
       "        text-align: right;\n",
       "    }\n",
       "</style>\n",
       "<table border=\"1\" class=\"dataframe\">\n",
       "  <thead>\n",
       "    <tr style=\"text-align: right;\">\n",
       "      <th></th>\n",
       "      <th>dataset</th>\n",
       "      <th>model</th>\n",
       "      <th>model_optimizer</th>\n",
       "      <th>model_learning_rate</th>\n",
       "      <th>mean_val_loss</th>\n",
       "      <th>folds</th>\n",
       "      <th>mean_epochs</th>\n",
       "    </tr>\n",
       "  </thead>\n",
       "  <tbody>\n",
       "    <tr>\n",
       "      <th>10</th>\n",
       "      <td>Yahoo</td>\n",
       "      <td>Neural PBM - Estimated bias</td>\n",
       "      <td>adam</td>\n",
       "      <td>0.0050</td>\n",
       "      <td>2.868538</td>\n",
       "      <td>5</td>\n",
       "      <td>7.706667</td>\n",
       "    </tr>\n",
       "    <tr>\n",
       "      <th>9</th>\n",
       "      <td>Yahoo</td>\n",
       "      <td>Neural PBM - Estimated bias</td>\n",
       "      <td>adam</td>\n",
       "      <td>0.0010</td>\n",
       "      <td>2.884605</td>\n",
       "      <td>5</td>\n",
       "      <td>13.051852</td>\n",
       "    </tr>\n",
       "    <tr>\n",
       "      <th>20</th>\n",
       "      <td>Yahoo</td>\n",
       "      <td>Neural PBM - Estimated bias</td>\n",
       "      <td>sgd</td>\n",
       "      <td>0.1000</td>\n",
       "      <td>2.902894</td>\n",
       "      <td>5</td>\n",
       "      <td>26.361217</td>\n",
       "    </tr>\n",
       "    <tr>\n",
       "      <th>28</th>\n",
       "      <td>Yahoo</td>\n",
       "      <td>Neural PBM - Unbiased</td>\n",
       "      <td>adam</td>\n",
       "      <td>0.0001</td>\n",
       "      <td>2.824210</td>\n",
       "      <td>5</td>\n",
       "      <td>20.065000</td>\n",
       "    </tr>\n",
       "    <tr>\n",
       "      <th>29</th>\n",
       "      <td>Yahoo</td>\n",
       "      <td>Neural PBM - Unbiased</td>\n",
       "      <td>adam</td>\n",
       "      <td>0.0005</td>\n",
       "      <td>2.824700</td>\n",
       "      <td>5</td>\n",
       "      <td>11.917355</td>\n",
       "    </tr>\n",
       "    <tr>\n",
       "      <th>23</th>\n",
       "      <td>Yahoo</td>\n",
       "      <td>Neural PBM - Unbiased</td>\n",
       "      <td>adagrad</td>\n",
       "      <td>0.0010</td>\n",
       "      <td>2.824906</td>\n",
       "      <td>5</td>\n",
       "      <td>20.837321</td>\n",
       "    </tr>\n",
       "    <tr>\n",
       "      <th>50</th>\n",
       "      <td>Yahoo</td>\n",
       "      <td>Pointwise IPS - Unbiased</td>\n",
       "      <td>adam</td>\n",
       "      <td>0.0005</td>\n",
       "      <td>11.213468</td>\n",
       "      <td>5</td>\n",
       "      <td>18.140541</td>\n",
       "    </tr>\n",
       "    <tr>\n",
       "      <th>51</th>\n",
       "      <td>Yahoo</td>\n",
       "      <td>Pointwise IPS - Unbiased</td>\n",
       "      <td>adam</td>\n",
       "      <td>0.0010</td>\n",
       "      <td>11.217463</td>\n",
       "      <td>5</td>\n",
       "      <td>14.669014</td>\n",
       "    </tr>\n",
       "    <tr>\n",
       "      <th>49</th>\n",
       "      <td>Yahoo</td>\n",
       "      <td>Pointwise IPS - Unbiased</td>\n",
       "      <td>adam</td>\n",
       "      <td>0.0001</td>\n",
       "      <td>11.236523</td>\n",
       "      <td>5</td>\n",
       "      <td>21.212264</td>\n",
       "    </tr>\n",
       "  </tbody>\n",
       "</table>\n",
       "</div>"
      ],
      "text/plain": [
       "   dataset                        model model_optimizer  model_learning_rate  \\\n",
       "10   Yahoo  Neural PBM - Estimated bias            adam               0.0050   \n",
       "9    Yahoo  Neural PBM - Estimated bias            adam               0.0010   \n",
       "20   Yahoo  Neural PBM - Estimated bias             sgd               0.1000   \n",
       "28   Yahoo        Neural PBM - Unbiased            adam               0.0001   \n",
       "29   Yahoo        Neural PBM - Unbiased            adam               0.0005   \n",
       "23   Yahoo        Neural PBM - Unbiased         adagrad               0.0010   \n",
       "50   Yahoo     Pointwise IPS - Unbiased            adam               0.0005   \n",
       "51   Yahoo     Pointwise IPS - Unbiased            adam               0.0010   \n",
       "49   Yahoo     Pointwise IPS - Unbiased            adam               0.0001   \n",
       "\n",
       "    mean_val_loss  folds  mean_epochs  \n",
       "10       2.868538      5     7.706667  \n",
       "9        2.884605      5    13.051852  \n",
       "20       2.902894      5    26.361217  \n",
       "28       2.824210      5    20.065000  \n",
       "29       2.824700      5    11.917355  \n",
       "23       2.824906      5    20.837321  \n",
       "50      11.213468      5    18.140541  \n",
       "51      11.217463      5    14.669014  \n",
       "49      11.236523      5    21.212264  "
      ]
     },
     "execution_count": 4,
     "metadata": {},
     "output_type": "execute_result"
    }
   ],
   "source": [
    "min_columns = [\"dataset\", \"model\", \"model_optimizer\", \"model_learning_rate\", \"random_state\"]\n",
    "mean_columns = [\"dataset\", \"model\", \"model_optimizer\", \"model_learning_rate\"]\n",
    "\n",
    "min_df = val_df.groupby(min_columns)[\"val_loss\"].min().reset_index()\n",
    "min_df = val_df.groupby(mean_columns).agg(mean_val_loss=(\"val_loss\", \"mean\"),\n",
    "                                          folds=(\"random_state\", \"nunique\"),\n",
    "                                          mean_epochs=(\"epoch\", \"mean\")).reset_index()\n",
    "min_df.sort_values([\"dataset\", \"model\", \"mean_val_loss\"]).groupby([\"dataset\", \"model\"]).head(3)"
   ]
  }
 ],
 "metadata": {
  "kernelspec": {
   "display_name": "Python 3 (ipykernel)",
   "language": "python",
   "name": "python3"
  },
  "language_info": {
   "codemirror_mode": {
    "name": "ipython",
    "version": 3
   },
   "file_extension": ".py",
   "mimetype": "text/x-python",
   "name": "python",
   "nbconvert_exporter": "python",
   "pygments_lexer": "ipython3",
   "version": "3.9.13"
  }
 },
 "nbformat": 4,
 "nbformat_minor": 5
}
