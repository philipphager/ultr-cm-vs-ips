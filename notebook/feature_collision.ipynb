{
 "cells": [
  {
   "cell_type": "code",
   "execution_count": null,
   "id": "76dd08d3-878c-4f54-879c-9b260510b463",
   "metadata": {},
   "outputs": [],
   "source": [
    "%cd .."
   ]
  },
  {
   "cell_type": "code",
   "execution_count": null,
   "id": "5f2a47ef-15ec-4181-86e2-8351e59c1a95",
   "metadata": {},
   "outputs": [],
   "source": [
    "import altair as alt\n",
    "from altair_saver import save\n",
    "import pandas as pd\n",
    "from util import load_experiment"
   ]
  },
  {
   "cell_type": "code",
   "execution_count": null,
   "id": "d1bcbd17-4d0a-48f2-a2b4-054a1cac97b9",
   "metadata": {},
   "outputs": [],
   "source": [
    "baseline_df, val_df, test_df = load_experiment(\"feature_collisions\")"
   ]
  },
  {
   "cell_type": "code",
   "execution_count": null,
   "id": "4062e3b0",
   "metadata": {},
   "outputs": [],
   "source": [
    "model2name = {\n",
    "    \"Neural PBM - Unbiased\": \"PBM - True Bias\",\n",
    "    \"Neural PBM - Biased\": \"PBM - Naive\",\n",
    "    \"Neural PBM - Estimated bias\": \"PBM - Estimated Bias\",\n",
    "    \"Pointwise IPS - Unbiased\": \"Point. IPS - True Bias\",\n",
    "    \"Pointwise IPS - Biased\": \"Point. IPS / PBM - Naive\",\n",
    "}\n",
    "\n",
    "test_df.model = test_df.model.map(model2name)\n",
    "test_df = test_df[(test_df.model != \"PBM - Naive\") & (test_df.model != \"PBM - Estimated Bias\")]"
   ]
  },
  {
   "cell_type": "code",
   "execution_count": null,
   "id": "21a795eb-0d54-45b2-a8e3-698d326d3a70",
   "metadata": {
    "tags": []
   },
   "outputs": [],
   "source": [
    "def plot(dataset_df, legend=True, width=400, height=200, metric=\"average_relevant_position\", title=\"\", y=[0, 1.0], clip=False, label_y=True, label_x=True): \n",
    "    lines = alt.Chart(dataset_df, width=width, height=height, title=title).mark_line(clip=clip).encode(\n",
    "        x=alt.X(\"data_perc_feature_collision\", title=\"% of Feature Collisions\", axis=alt.Axis(format='%')),\n",
    "        y=alt.Y(f\"mean({metric})\", scale=alt.Scale(zero=False, domain=y), title=metric if label_y else None),\n",
    "        color=alt.Color(\"model\", legend=None),\n",
    "        tooltip=[f\"count({metric})\", \"n_sessions\", f\"mean({metric})\"]\n",
    "    )\n",
    "\n",
    "    marks = alt.Chart(dataset_df).mark_point(clip=clip, size=50).encode(\n",
    "        x=alt.X(\"data_perc_feature_collision\"),\n",
    "        y=alt.Y(f\"mean({metric})\", scale=alt.Scale(zero=False)),\n",
    "        shape=alt.Shape(\"model\"),\n",
    "        color=alt.Color(\"model\"),\n",
    "        tooltip=[f\"count({metric})\", \"n_sessions\", f\"mean({metric})\"]\n",
    "    )\n",
    "\n",
    "    ci = alt.Chart(dataset_df).mark_errorband(opacity=0.5, clip=clip).encode(\n",
    "        x=alt.X(\"data_perc_feature_collision\"),\n",
    "        y=alt.Y(metric, scale=alt.Scale(zero=False)),\n",
    "        color=alt.Color(\"model\", legend=None),\n",
    "    )\n",
    "\n",
    "    return alt.layer(\n",
    "        lines,\n",
    "        marks,\n",
    "        ci\n",
    "    ).resolve_scale(\n",
    "        color=\"independent\",\n",
    "        shape=\"independent\"\n",
    "    )\n",
    "\n",
    "\n",
    "chart = (\n",
    "    plot(test_df, legend=True, metric=\"nDCG@10\", title=\"Synthetic\", y=[0.5, 1.0], clip=True)\n",
    ").configure_legend(\n",
    "    orient=\"right\",\n",
    "    title=None,\n",
    "    labelFont=\"serif\",\n",
    "    labelFontSize=14,\n",
    "    columnPadding=20,\n",
    ").configure_title(\n",
    "    fontSize=14,\n",
    "    fontWeight=\"normal\",\n",
    "    font=\"serif\"\n",
    ").configure_axis(\n",
    "    titlePadding=10,\n",
    "    titleFontSize=14,\n",
    "    titleFontWeight=\"normal\",\n",
    "    titleFont=\"serif\",\n",
    "    labelFontSize=10,\n",
    "    labelFontWeight=\"normal\",\n",
    "    labelFont=\"serif\",\n",
    "    tickCount=8\n",
    ")\n",
    "\n",
    "save(chart, \"figures/feature_collisions.pdf\")\n",
    "chart"
   ]
  }
 ],
 "metadata": {
  "kernelspec": {
   "display_name": "Python 3 (ipykernel)",
   "language": "python",
   "name": "python3"
  },
  "language_info": {
   "codemirror_mode": {
    "name": "ipython",
    "version": 3
   },
   "file_extension": ".py",
   "mimetype": "text/x-python",
   "name": "python",
   "nbconvert_exporter": "python",
   "pygments_lexer": "ipython3",
   "version": "3.9.13"
  }
 },
 "nbformat": 4,
 "nbformat_minor": 5
}
