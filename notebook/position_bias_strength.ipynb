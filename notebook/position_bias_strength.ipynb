{
 "cells": [
  {
   "cell_type": "code",
   "execution_count": null,
   "id": "76dd08d3-878c-4f54-879c-9b260510b463",
   "metadata": {},
   "outputs": [],
   "source": [
    "%cd .."
   ]
  },
  {
   "cell_type": "code",
   "execution_count": null,
   "id": "5f2a47ef-15ec-4181-86e2-8351e59c1a95",
   "metadata": {
    "scrolled": true
   },
   "outputs": [],
   "source": [
    "import altair as alt\n",
    "from altair_saver import save\n",
    "import pandas as pd\n",
    "from util import load_experiment"
   ]
  },
  {
   "cell_type": "code",
   "execution_count": null,
   "id": "d1bcbd17-4d0a-48f2-a2b4-054a1cac97b9",
   "metadata": {},
   "outputs": [],
   "source": [
    "baseline_df, val_df, test_df = load_experiment(\"position_bias_strength\")"
   ]
  },
  {
   "cell_type": "code",
   "execution_count": null,
   "id": "b22f2576",
   "metadata": {},
   "outputs": [],
   "source": [
    "test_df[\"position_bias\"] = test_df.simulation_simulator_user_model_position_bias"
   ]
  },
  {
   "cell_type": "code",
   "execution_count": null,
   "id": "4062e3b0",
   "metadata": {},
   "outputs": [],
   "source": [
    "model2name = {\n",
    "    \"Neural PBM - Unbiased\": \"PBM - True bias\",\n",
    "    \"Neural PBM - Biased\": \"PBM - Naive\",\n",
    "    \"Neural PBM - Estimated bias\": \"PBM - Estimated bias\",\n",
    "    \"Pointwise IPS - Unbiased\": \"Point. IPS - True bias\",\n",
    "    \"Pointwise IPS - Biased\": \"Point. IPS / PBM - Naive\",\n",
    "}\n",
    "\n",
    "test_df.model = test_df.model.map(model2name)\n",
    "test_df = test_df[test_df.model != \"Point. IPS / PBM - Naive\"]"
   ]
  },
  {
   "cell_type": "code",
   "execution_count": null,
   "id": "21a795eb-0d54-45b2-a8e3-698d326d3a70",
   "metadata": {},
   "outputs": [],
   "source": [
    "chart = (alt.Chart(test_df, width=350, height=175, title=\"Istella-S\").mark_line().encode(\n",
    "    x=alt.X(\"position_bias\", title=\"Position bias severity η\"),\n",
    "    y=alt.Y(\"mean(nDCG@10)\", scale=alt.Scale(domain=[0.65, 0.75])),\n",
    "    color=alt.Color(\"model\", legend=None),\n",
    ") + alt.Chart(test_df).mark_point().encode(\n",
    "    x=\"position_bias\",\n",
    "    y=alt.Y(\"mean(nDCG@10)\", scale=alt.Scale(domain=[0.65, 0.75])),\n",
    "    color=alt.Color(\"model\"),\n",
    "    shape=\"model\"\n",
    ") + alt.Chart(test_df).mark_errorband(extent=\"ci\").encode(\n",
    "    x=\"position_bias\",\n",
    "    y=alt.Y(\"nDCG@10\", scale=alt.Scale(domain=[0.65, 0.75])),\n",
    "    color=alt.Color(\"model\", legend=None),\n",
    ")).resolve_scale(\n",
    "    color=\"independent\",\n",
    "    shape=\"independent\"\n",
    ").configure_legend(\n",
    "    orient=\"bottom\",\n",
    "    title=None,\n",
    "    labelFont=\"serif\",\n",
    "    labelFontSize=16,\n",
    ").configure_title(\n",
    "    fontSize=16,\n",
    "    fontWeight=\"normal\",\n",
    "    font=\"serif\"\n",
    ").configure_axis(\n",
    "    titlePadding=5,\n",
    "    titleFontSize=16,\n",
    "    titleFontWeight=\"normal\",\n",
    "    titleFont=\"serif\",\n",
    "    labelFontSize=14,\n",
    "    labelFontWeight=\"normal\",\n",
    "    labelFont=\"serif\",\n",
    "    tickCount=6\n",
    ")\n",
    "\n",
    "save(chart, \"figures/position_bias_recovery.pdf\")\n",
    "chart"
   ]
  }
 ],
 "metadata": {
  "kernelspec": {
   "display_name": "Python 3 (ipykernel)",
   "language": "python",
   "name": "python3"
  },
  "language_info": {
   "codemirror_mode": {
    "name": "ipython",
    "version": 3
   },
   "file_extension": ".py",
   "mimetype": "text/x-python",
   "name": "python",
   "nbconvert_exporter": "python",
   "pygments_lexer": "ipython3",
   "version": "3.9.13"
  }
 },
 "nbformat": 4,
 "nbformat_minor": 5
}
