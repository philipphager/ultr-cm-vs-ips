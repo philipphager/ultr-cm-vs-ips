{
 "cells": [
  {
   "cell_type": "code",
   "execution_count": 1,
   "id": "76dd08d3-878c-4f54-879c-9b260510b463",
   "metadata": {},
   "outputs": [
    {
     "name": "stdout",
     "output_type": "stream",
     "text": [
      "/Users/philipphager/Developer/ultr-cm-vs-ips\n"
     ]
    }
   ],
   "source": [
    "%cd .."
   ]
  },
  {
   "cell_type": "code",
   "execution_count": 2,
   "id": "5f2a47ef-15ec-4181-86e2-8351e59c1a95",
   "metadata": {},
   "outputs": [
    {
     "name": "stderr",
     "output_type": "stream",
     "text": [
      "/usr/local/Caskroom/miniconda/base/envs/ultr-cm-vs-ips/lib/python3.9/site-packages/tqdm/auto.py:22: TqdmWarning: IProgress not found. Please update jupyter and ipywidgets. See https://ipywidgets.readthedocs.io/en/stable/user_install.html\n",
      "  from .autonotebook import tqdm as notebook_tqdm\n"
     ]
    }
   ],
   "source": [
    "from util import load_experiment"
   ]
  },
  {
   "cell_type": "code",
   "execution_count": 3,
   "id": "d1bcbd17-4d0a-48f2-a2b4-054a1cac97b9",
   "metadata": {},
   "outputs": [],
   "source": [
    "baseline_df, val_df, test_df = load_experiment(\"dataset_size\")"
   ]
  },
  {
   "cell_type": "code",
   "execution_count": 3,
   "id": "f5d66a49",
   "metadata": {},
   "outputs": [
    {
     "name": "stderr",
     "output_type": "stream",
     "text": [
      "/usr/local/Caskroom/miniconda/base/envs/ultr-cm-vs-ips/lib/python3.9/site-packages/altair/utils/core.py:185: UserWarning: I don't know how to infer vegalite type from 'empty'.  Defaulting to nominal.\n",
      "  warnings.warn(\n"
     ]
    },
    {
     "data": {
      "text/html": [
       "\n",
       "<div id=\"altair-viz-3f9ceae8eee743f78afeb74a45a50bce\"></div>\n",
       "<script type=\"text/javascript\">\n",
       "  (function(spec, embedOpt){\n",
       "    let outputDiv = document.currentScript.previousElementSibling;\n",
       "    if (outputDiv.id !== \"altair-viz-3f9ceae8eee743f78afeb74a45a50bce\") {\n",
       "      outputDiv = document.getElementById(\"altair-viz-3f9ceae8eee743f78afeb74a45a50bce\");\n",
       "    }\n",
       "    const paths = {\n",
       "      \"vega\": \"https://cdn.jsdelivr.net/npm//vega@5?noext\",\n",
       "      \"vega-lib\": \"https://cdn.jsdelivr.net/npm//vega-lib?noext\",\n",
       "      \"vega-lite\": \"https://cdn.jsdelivr.net/npm//vega-lite@4.8.1?noext\",\n",
       "      \"vega-embed\": \"https://cdn.jsdelivr.net/npm//vega-embed@6?noext\",\n",
       "    };\n",
       "\n",
       "    function loadScript(lib) {\n",
       "      return new Promise(function(resolve, reject) {\n",
       "        var s = document.createElement('script');\n",
       "        s.src = paths[lib];\n",
       "        s.async = true;\n",
       "        s.onload = () => resolve(paths[lib]);\n",
       "        s.onerror = () => reject(`Error loading script: ${paths[lib]}`);\n",
       "        document.getElementsByTagName(\"head\")[0].appendChild(s);\n",
       "      });\n",
       "    }\n",
       "\n",
       "    function showError(err) {\n",
       "      outputDiv.innerHTML = `<div class=\"error\" style=\"color:red;\">${err}</div>`;\n",
       "      throw err;\n",
       "    }\n",
       "\n",
       "    function displayChart(vegaEmbed) {\n",
       "      vegaEmbed(outputDiv, spec, embedOpt)\n",
       "        .catch(err => showError(`Javascript Error: ${err.message}<br>This usually means there's a typo in your chart specification. See the javascript console for the full traceback.`));\n",
       "    }\n",
       "\n",
       "    if(typeof define === \"function\" && define.amd) {\n",
       "      requirejs.config({paths});\n",
       "      require([\"vega-embed\"], displayChart, err => showError(`Error loading script: ${err.message}`));\n",
       "    } else if (typeof vegaEmbed === \"function\") {\n",
       "      displayChart(vegaEmbed);\n",
       "    } else {\n",
       "      loadScript(\"vega\")\n",
       "        .then(() => loadScript(\"vega-lite\"))\n",
       "        .then(() => loadScript(\"vega-embed\"))\n",
       "        .catch(showError)\n",
       "        .then(() => displayChart(vegaEmbed));\n",
       "    }\n",
       "  })({\"config\": {\"view\": {\"continuousWidth\": 400, \"continuousHeight\": 300}}, \"vconcat\": [{\"layer\": [{\"mark\": \"line\", \"encoding\": {\"color\": {\"type\": \"nominal\", \"field\": \"model\", \"legend\": null}, \"x\": {\"type\": \"quantitative\", \"axis\": {\"format\": \"e\"}, \"field\": \"n_sessions\", \"scale\": {\"type\": \"log\"}, \"title\": \"Number of Train Queries\"}, \"y\": {\"type\": \"quantitative\", \"aggregate\": \"mean\", \"field\": \"nDCG@10\", \"scale\": {\"domain\": [0.25, 0.45], \"zero\": false}}}, \"height\": 200, \"title\": \"MSLR-WEB30K\", \"width\": 600}, {\"mark\": \"point\", \"encoding\": {\"color\": {\"type\": \"nominal\", \"field\": \"model\", \"legend\": {\"orient\": \"bottom\"}, \"title\": \"\"}, \"shape\": {\"type\": \"nominal\", \"field\": \"model\", \"legend\": {\"orient\": \"bottom\"}, \"title\": \"\"}, \"x\": {\"type\": \"quantitative\", \"axis\": {\"format\": \"e\"}, \"field\": \"n_sessions\", \"scale\": {\"type\": \"log\"}, \"title\": \"Number of Train Queries\"}, \"y\": {\"type\": \"quantitative\", \"aggregate\": \"mean\", \"field\": \"nDCG@10\", \"scale\": {\"zero\": false}}}}, {\"mark\": {\"type\": \"errorband\", \"opacity\": 0.5}, \"encoding\": {\"color\": {\"type\": \"nominal\", \"field\": \"model\", \"legend\": null}, \"x\": {\"type\": \"quantitative\", \"axis\": {\"format\": \"e\"}, \"field\": \"n_sessions\", \"scale\": {\"type\": \"log\"}, \"title\": \"Number of Train Queries\"}, \"y\": {\"type\": \"quantitative\", \"field\": \"nDCG@10\", \"scale\": {\"zero\": false}}}}], \"data\": {\"name\": \"data-d751713988987e9331980363e24189ce\"}, \"resolve\": {\"scale\": {\"color\": \"independent\", \"shape\": \"independent\"}}}, {\"layer\": [{\"mark\": \"line\", \"encoding\": {\"color\": {\"type\": \"nominal\", \"field\": \"model\", \"legend\": null}, \"x\": {\"type\": \"quantitative\", \"axis\": {\"format\": \"e\"}, \"field\": \"n_sessions\", \"scale\": {\"type\": \"log\"}, \"title\": \"Number of Train Queries\"}, \"y\": {\"type\": \"quantitative\", \"aggregate\": \"mean\", \"field\": \"nDCG@10\", \"scale\": {\"domain\": [0.59, 0.74], \"zero\": false}}}, \"height\": 200, \"title\": \"Yahoo\", \"width\": 600}, {\"mark\": \"point\", \"encoding\": {\"color\": {\"type\": \"nominal\", \"field\": \"model\", \"legend\": {\"orient\": \"bottom\"}, \"title\": \"\"}, \"shape\": {\"type\": \"nominal\", \"field\": \"model\", \"legend\": {\"orient\": \"bottom\"}, \"title\": \"\"}, \"x\": {\"type\": \"quantitative\", \"axis\": {\"format\": \"e\"}, \"field\": \"n_sessions\", \"scale\": {\"type\": \"log\"}, \"title\": \"Number of Train Queries\"}, \"y\": {\"type\": \"quantitative\", \"aggregate\": \"mean\", \"field\": \"nDCG@10\", \"scale\": {\"zero\": false}}}}, {\"mark\": {\"type\": \"errorband\", \"opacity\": 0.5}, \"encoding\": {\"color\": {\"type\": \"nominal\", \"field\": \"model\", \"legend\": null}, \"x\": {\"type\": \"quantitative\", \"axis\": {\"format\": \"e\"}, \"field\": \"n_sessions\", \"scale\": {\"type\": \"log\"}, \"title\": \"Number of Train Queries\"}, \"y\": {\"type\": \"quantitative\", \"field\": \"nDCG@10\", \"scale\": {\"zero\": false}}}}], \"data\": {\"name\": \"data-e5765b1bb9901067001c7720d4e44ab7\"}, \"resolve\": {\"scale\": {\"color\": \"independent\", \"shape\": \"independent\"}}}], \"$schema\": \"https://vega.github.io/schema/vega-lite/v4.8.1.json\", \"datasets\": {\"data-d751713988987e9331980363e24189ce\": [], \"data-e5765b1bb9901067001c7720d4e44ab7\": [{\"ARP\": 9.759452819824219, \"test_ndcg@1\": 0.660382091999054, \"nDCG@5\": 0.6860261559486389, \"nDCG@10\": 0.7323656678199768, \"nDCG\": 0.7740076780319214, \"epoch\": 49, \"dir\": \"results/dataset_size/+experiment=cm_unbiased,data=yahoo,experiment.name=dataset_size,random_state=0,simulation.aggregate_clicks=True,simulation.n_sessions=100000000\", \"random_state\": 0, \"experiment_name\": \"dataset_size\", \"trainer__target_\": \"pytorch_lightning.Trainer\", \"trainer_max_epochs\": 200, \"trainer_accelerator\": \"auto\", \"trainer_logger\": [{\"_target_\": \"src.logger.LocalLogger\"}], \"trainer_callbacks\": [{\"_target_\": \"pytorch_lightning.callbacks.EarlyStopping\", \"monitor\": \"val_loss\", \"patience\": 5}], \"train_loader__target_\": \"torch.utils.data.DataLoader\", \"train_loader_dataset\": \"???\", \"train_loader_batch_size\": 50, \"train_loader_shuffle\": true, \"val_test_loader__target_\": \"torch.utils.data.DataLoader\", \"val_test_loader_dataset\": \"???\", \"val_test_loader_batch_size\": 500, \"val_test_loader_shuffle\": false, \"data__target_\": \"src.data.Yahoo\", \"dataset\": \"Yahoo\", \"data_fold\": 1, \"data_n_features\": 699, \"data_pipeline__target_\": \"src.data.preprocessing.Pipeline\", \"data_pipeline_normalize\": [], \"data_pipeline_truncate\": [{\"_target_\": \"src.data.preprocessing.StratifiedTruncate\", \"max_length\": \"${data.n_results}\", \"random_state\": \"${random_state}\"}], \"data_pipeline_filter\": [], \"data_n_results\": 49, \"baseline__target_\": \"src.baseline.LightGBMRanker\", \"baseline_name\": \"LightGBM\", \"baseline_objective\": \"lambdarank\", \"baseline_boosting_type\": \"gbdt\", \"baseline_metric\": \"ndcg\", \"baseline_n_estimators\": 100, \"baseline_n_leaves\": 31, \"baseline_learning_rate\": 0.1, \"baseline_early_stopping_patience\": 10, \"baseline_random_state\": \"${random_state}\", \"simulation_simulator__target_\": \"src.simulation.Simulator\", \"simulation_simulator_baseline_model\": \"???\", \"simulation_simulator_user_model__target_\": \"src.simulation.GradedPBM\", \"simulation_simulator_user_model_position_bias\": 1.0, \"simulation_simulator_user_model_noise\": 0.1, \"n_sessions\": 100000000, \"simulation_aggregate_clicks\": true, \"model__target_\": \"src.model.NeuralPBM\", \"model\": \"Neural PBM - Unbiased\", \"model_layers\": [512, 256, 128], \"model_dropouts\": [0, 0.1, 0.1], \"model_activation__target_\": \"torch.nn.ELU\", \"model_n_results\": \"${data.n_results}\", \"model_n_features\": \"${data.n_features}\", \"model_loss__target_\": \"src.loss.BinaryCrossEntropy\", \"model_optimizer\": \"adam\", \"model_learning_rate\": 0.0001, \"model_position_bias\": 1.0}, {\"ARP\": 9.65129280090332, \"test_ndcg@1\": 0.6609330177307129, \"nDCG@5\": 0.6961493492126465, \"nDCG@10\": 0.7416451573371887, \"nDCG\": 0.7802368402481079, \"epoch\": 37, \"dir\": \"results/dataset_size/+experiment=ips_pointwise_unbiased,data=yahoo,experiment.name=dataset_size,random_state=0,simulation.aggregate_clicks=True,simulation.n_sessions=100000000\", \"random_state\": 0, \"experiment_name\": \"dataset_size\", \"trainer__target_\": \"pytorch_lightning.Trainer\", \"trainer_max_epochs\": 200, \"trainer_accelerator\": \"auto\", \"trainer_logger\": [{\"_target_\": \"src.logger.LocalLogger\"}], \"trainer_callbacks\": [{\"_target_\": \"pytorch_lightning.callbacks.EarlyStopping\", \"monitor\": \"val_loss\", \"patience\": 5}], \"train_loader__target_\": \"torch.utils.data.DataLoader\", \"train_loader_dataset\": \"???\", \"train_loader_batch_size\": 50, \"train_loader_shuffle\": true, \"val_test_loader__target_\": \"torch.utils.data.DataLoader\", \"val_test_loader_dataset\": \"???\", \"val_test_loader_batch_size\": 500, \"val_test_loader_shuffle\": false, \"data__target_\": \"src.data.Yahoo\", \"dataset\": \"Yahoo\", \"data_fold\": 1, \"data_n_features\": 699, \"data_pipeline__target_\": \"src.data.preprocessing.Pipeline\", \"data_pipeline_normalize\": [], \"data_pipeline_truncate\": [{\"_target_\": \"src.data.preprocessing.StratifiedTruncate\", \"max_length\": \"${data.n_results}\", \"random_state\": \"${random_state}\"}], \"data_pipeline_filter\": [], \"data_n_results\": 49, \"baseline__target_\": \"src.baseline.LightGBMRanker\", \"baseline_name\": \"LightGBM\", \"baseline_objective\": \"lambdarank\", \"baseline_boosting_type\": \"gbdt\", \"baseline_metric\": \"ndcg\", \"baseline_n_estimators\": 100, \"baseline_n_leaves\": 31, \"baseline_learning_rate\": 0.1, \"baseline_early_stopping_patience\": 10, \"baseline_random_state\": \"${random_state}\", \"simulation_simulator__target_\": \"src.simulation.Simulator\", \"simulation_simulator_baseline_model\": \"???\", \"simulation_simulator_user_model__target_\": \"src.simulation.GradedPBM\", \"simulation_simulator_user_model_position_bias\": 1.0, \"simulation_simulator_user_model_noise\": 0.1, \"n_sessions\": 100000000, \"simulation_aggregate_clicks\": true, \"model__target_\": \"src.model.IPS\", \"model\": \"Pointwise IPS - Unbiased\", \"model_layers\": [512, 256, 128], \"model_dropouts\": [0, 0.1, 0.1], \"model_activation__target_\": \"torch.nn.ELU\", \"model_n_results\": \"${data.n_results}\", \"model_n_features\": \"${data.n_features}\", \"model_loss__target_\": \"src.loss.BinaryCrossEntropyWithLogits\", \"model_optimizer\": \"adam\", \"model_learning_rate\": 0.0005, \"model_position_bias\": 1.0}]}}, {\"mode\": \"vega-lite\"});\n",
       "</script>"
      ],
      "text/plain": [
       "alt.VConcatChart(...)"
      ]
     },
     "execution_count": 3,
     "metadata": {},
     "output_type": "execute_result"
    }
   ],
   "source": [
    "def plot(dataset_df, legend=True, width=600, height=200, metric=\"average_relevant_position\", title=\"\", y=[0, 1.0]): \n",
    "    lines = alt.Chart(dataset_df, width=width, height=height, title=title).mark_line().encode(\n",
    "        x=alt.X(\"n_sessions\", scale=alt.Scale(type=\"log\"), title=\"Number of Train Queries\", axis=alt.Axis(format=\"e\")),\n",
    "        y=alt.Y(f\"mean({metric})\", scale=alt.Scale(zero=False, domain=y)),\n",
    "        color=alt.Color(\"model\", legend=None),\n",
    "    )\n",
    "\n",
    "    marks = alt.Chart(dataset_df).mark_point().encode(\n",
    "        x=alt.X(\"n_sessions\", scale=alt.Scale(type=\"log\"), title=\"Number of Train Queries\", axis=alt.Axis(format=\"e\")),\n",
    "        y=alt.Y(f\"mean({metric})\", scale=alt.Scale(zero=False)),\n",
    "        shape=alt.Shape(\"model\", legend=alt.Legend(orient=\"bottom\"), title=\"\") if legend else alt.Shape(\"model\", legend=None),\n",
    "        color=alt.Color(\"model\", legend=alt.Legend(orient=\"bottom\"), title=\"\") if legend else alt.Color(\"model\", legend=None),\n",
    "    )\n",
    "\n",
    "    ci = alt.Chart(dataset_df).mark_errorband(opacity=0.5).encode(\n",
    "        x=alt.X(\"n_sessions\", scale=alt.Scale(type=\"log\"), title=\"Number of Train Queries\", axis=alt.Axis(format=\"e\")),\n",
    "        y=alt.Y(metric, scale=alt.Scale(zero=False)),\n",
    "        color=alt.Color(\"model\", legend=None),\n",
    "    )\n",
    "\n",
    "    return alt.layer(\n",
    "        lines,\n",
    "        marks,\n",
    "        ci\n",
    "    ).resolve_scale(\n",
    "        color=\"independent\",\n",
    "        shape=\"independent\",\n",
    "    )\n",
    "\n",
    "yahoo_df = test_df[test_df.dataset == \"Yahoo\"]\n",
    "mslr_df = test_df[test_df.dataset == \"MSLR-Web30K\"]\n",
    "\n",
    "(\n",
    "    plot(mslr_df, legend=True, metric=\"nDCG@10\", title=\"MSLR-WEB30K\", y=[0.25, 0.45]) &\n",
    "    plot(yahoo_df, legend=True, metric=\"nDCG@10\", title=\"Yahoo\", y=[0.59, 0.74])\n",
    ")"
   ]
  },
  {
   "cell_type": "code",
   "execution_count": 4,
   "id": "63426ed2",
   "metadata": {},
   "outputs": [
    {
     "data": {
      "text/html": [
       "<div>\n",
       "<style scoped>\n",
       "    .dataframe tbody tr th:only-of-type {\n",
       "        vertical-align: middle;\n",
       "    }\n",
       "\n",
       "    .dataframe tbody tr th {\n",
       "        vertical-align: top;\n",
       "    }\n",
       "\n",
       "    .dataframe thead th {\n",
       "        text-align: right;\n",
       "    }\n",
       "</style>\n",
       "<table border=\"1\" class=\"dataframe\">\n",
       "  <thead>\n",
       "    <tr style=\"text-align: right;\">\n",
       "      <th></th>\n",
       "      <th>count</th>\n",
       "      <th>mean</th>\n",
       "      <th>std</th>\n",
       "      <th>min</th>\n",
       "      <th>25%</th>\n",
       "      <th>50%</th>\n",
       "      <th>75%</th>\n",
       "      <th>max</th>\n",
       "    </tr>\n",
       "    <tr>\n",
       "      <th>model</th>\n",
       "      <th></th>\n",
       "      <th></th>\n",
       "      <th></th>\n",
       "      <th></th>\n",
       "      <th></th>\n",
       "      <th></th>\n",
       "      <th></th>\n",
       "      <th></th>\n",
       "    </tr>\n",
       "  </thead>\n",
       "  <tbody>\n",
       "    <tr>\n",
       "      <th>Neural PBM - Unbiased</th>\n",
       "      <td>1.0</td>\n",
       "      <td>49.0</td>\n",
       "      <td>NaN</td>\n",
       "      <td>49.0</td>\n",
       "      <td>49.0</td>\n",
       "      <td>49.0</td>\n",
       "      <td>49.0</td>\n",
       "      <td>49.0</td>\n",
       "    </tr>\n",
       "    <tr>\n",
       "      <th>Pointwise IPS - Unbiased</th>\n",
       "      <td>1.0</td>\n",
       "      <td>37.0</td>\n",
       "      <td>NaN</td>\n",
       "      <td>37.0</td>\n",
       "      <td>37.0</td>\n",
       "      <td>37.0</td>\n",
       "      <td>37.0</td>\n",
       "      <td>37.0</td>\n",
       "    </tr>\n",
       "  </tbody>\n",
       "</table>\n",
       "</div>"
      ],
      "text/plain": [
       "                          count  mean  std   min   25%   50%   75%   max\n",
       "model                                                                   \n",
       "Neural PBM - Unbiased       1.0  49.0  NaN  49.0  49.0  49.0  49.0  49.0\n",
       "Pointwise IPS - Unbiased    1.0  37.0  NaN  37.0  37.0  37.0  37.0  37.0"
      ]
     },
     "execution_count": 4,
     "metadata": {},
     "output_type": "execute_result"
    }
   ],
   "source": [
    "yahoo_df[yahoo_df.n_sessions == 100_000_000].groupby(\"model\").epoch.describe()"
   ]
  },
  {
   "cell_type": "code",
   "execution_count": 5,
   "id": "fcc817a7",
   "metadata": {},
   "outputs": [
    {
     "data": {
      "text/html": [
       "<div>\n",
       "<style scoped>\n",
       "    .dataframe tbody tr th:only-of-type {\n",
       "        vertical-align: middle;\n",
       "    }\n",
       "\n",
       "    .dataframe tbody tr th {\n",
       "        vertical-align: top;\n",
       "    }\n",
       "\n",
       "    .dataframe thead th {\n",
       "        text-align: right;\n",
       "    }\n",
       "</style>\n",
       "<table border=\"1\" class=\"dataframe\">\n",
       "  <thead>\n",
       "    <tr style=\"text-align: right;\">\n",
       "      <th></th>\n",
       "      <th>count</th>\n",
       "      <th>mean</th>\n",
       "      <th>std</th>\n",
       "      <th>min</th>\n",
       "      <th>25%</th>\n",
       "      <th>50%</th>\n",
       "      <th>75%</th>\n",
       "      <th>max</th>\n",
       "    </tr>\n",
       "    <tr>\n",
       "      <th>model</th>\n",
       "      <th></th>\n",
       "      <th></th>\n",
       "      <th></th>\n",
       "      <th></th>\n",
       "      <th></th>\n",
       "      <th></th>\n",
       "      <th></th>\n",
       "      <th></th>\n",
       "    </tr>\n",
       "  </thead>\n",
       "  <tbody>\n",
       "    <tr>\n",
       "      <th>Neural PBM - Unbiased</th>\n",
       "      <td>1.0</td>\n",
       "      <td>0.774008</td>\n",
       "      <td>NaN</td>\n",
       "      <td>0.774008</td>\n",
       "      <td>0.774008</td>\n",
       "      <td>0.774008</td>\n",
       "      <td>0.774008</td>\n",
       "      <td>0.774008</td>\n",
       "    </tr>\n",
       "    <tr>\n",
       "      <th>Pointwise IPS - Unbiased</th>\n",
       "      <td>1.0</td>\n",
       "      <td>0.780237</td>\n",
       "      <td>NaN</td>\n",
       "      <td>0.780237</td>\n",
       "      <td>0.780237</td>\n",
       "      <td>0.780237</td>\n",
       "      <td>0.780237</td>\n",
       "      <td>0.780237</td>\n",
       "    </tr>\n",
       "  </tbody>\n",
       "</table>\n",
       "</div>"
      ],
      "text/plain": [
       "                          count      mean  std       min       25%       50%  \\\n",
       "model                                                                          \n",
       "Neural PBM - Unbiased       1.0  0.774008  NaN  0.774008  0.774008  0.774008   \n",
       "Pointwise IPS - Unbiased    1.0  0.780237  NaN  0.780237  0.780237  0.780237   \n",
       "\n",
       "                               75%       max  \n",
       "model                                         \n",
       "Neural PBM - Unbiased     0.774008  0.774008  \n",
       "Pointwise IPS - Unbiased  0.780237  0.780237  "
      ]
     },
     "execution_count": 5,
     "metadata": {},
     "output_type": "execute_result"
    }
   ],
   "source": [
    "yahoo_df[yahoo_df.n_sessions == 100_000_000].groupby(\"model\").nDCG.describe()"
   ]
  }
 ],
 "metadata": {
  "kernelspec": {
   "display_name": "Python 3 (ipykernel)",
   "language": "python",
   "name": "python3"
  },
  "language_info": {
   "codemirror_mode": {
    "name": "ipython",
    "version": 3
   },
   "file_extension": ".py",
   "mimetype": "text/x-python",
   "name": "python",
   "nbconvert_exporter": "python",
   "pygments_lexer": "ipython3",
   "version": "3.9.13"
  }
 },
 "nbformat": 4,
 "nbformat_minor": 5
}
